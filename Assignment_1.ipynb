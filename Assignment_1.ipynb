{
 "cells": [
  {
   "cell_type": "markdown",
   "id": "3d1d92d4",
   "metadata": {},
   "source": [
    "#1. In the below elements which of them are values or an expression? eg:- values can be\n",
    "integer or string and expressions will be mathematical operators.\n",
    "*  expression\n",
    "hello    value\n",
    "-87      value\n",
    "-        expression\n",
    "/        expression\n",
    "+        expression\n",
    "6        value"
   ]
  },
  {
   "cell_type": "markdown",
   "id": "96bb5b34",
   "metadata": {},
   "source": [
    "2. What is the difference between string and variable?\n",
    "\n",
    "String can be anything that is written in quotes \" \" , '  '.\n",
    "\n",
    "Variable thats value can be vary, we can store desired data, its like empty container.\n"
   ]
  },
  {
   "cell_type": "markdown",
   "id": "2e459673",
   "metadata": {},
   "source": [
    "3. Describe three different data types.\n",
    "int() which stores integer value.\n",
    "float() which store floating value.\n",
    "bool() which store boolen value True or false , o and  1.\n"
   ]
  },
  {
   "cell_type": "markdown",
   "id": "25a405c9",
   "metadata": {},
   "source": [
    "4. What is an expression made up of? What do all expressions do?\n",
    "\n",
    "Expression made up of variable and mathmatical operation(oprands) and gives output . \n",
    "e.g   a = 4+5\n"
   ]
  },
  {
   "cell_type": "markdown",
   "id": "a51d6aaf",
   "metadata": {},
   "source": [
    "5. This assignment statements, like spam = 10. What is the difference between an\n",
    "expression and a statement?\n",
    "\n",
    "Expression is set of variable and oprands that gives output.\n",
    "Statement is assigned fix value, which is run in python to get same value"
   ]
  },
  {
   "cell_type": "markdown",
   "id": "6ddd47e1",
   "metadata": {},
   "source": [
    "6. After running the following code, what does the variable bacon contain?\n",
    "bacon = 22\n",
    "bacon + 1\n",
    " 23"
   ]
  },
  {
   "cell_type": "code",
   "execution_count": 6,
   "id": "dbbd0404",
   "metadata": {},
   "outputs": [
    {
     "data": {
      "text/plain": [
       "23"
      ]
     },
     "execution_count": 6,
     "metadata": {},
     "output_type": "execute_result"
    }
   ],
   "source": [
    "bacon = 22\n",
    "bacon + 1"
   ]
  },
  {
   "cell_type": "markdown",
   "id": "b25df46a",
   "metadata": {},
   "source": [
    "7. What should the values of the following two terms\n",
    "'spam' + 'spamspam'\n",
    "'spam' * 3"
   ]
  },
  {
   "cell_type": "code",
   "execution_count": 7,
   "id": "da1468c9",
   "metadata": {},
   "outputs": [
    {
     "data": {
      "text/plain": [
       "'spamspamspam'"
      ]
     },
     "execution_count": 7,
     "metadata": {},
     "output_type": "execute_result"
    }
   ],
   "source": [
    "'spam'+ 'spamspam'"
   ]
  },
  {
   "cell_type": "code",
   "execution_count": 8,
   "id": "4105311b",
   "metadata": {},
   "outputs": [
    {
     "data": {
      "text/plain": [
       "'spamspamspam'"
      ]
     },
     "execution_count": 8,
     "metadata": {},
     "output_type": "execute_result"
    }
   ],
   "source": [
    "'spam'*3"
   ]
  },
  {
   "cell_type": "markdown",
   "id": "f3ad6df1",
   "metadata": {},
   "source": [
    "8. Why is eggs a valid variable name while 100 is invalid?\n",
    "\n",
    "Because variable can not start with numeric , that why egg is valid and 100 is not. we can start with aplha, like 'egg100' now it is valid variable."
   ]
  },
  {
   "cell_type": "markdown",
   "id": "6d5f76aa",
   "metadata": {},
   "source": [
    "9. What three functions can be used to get the integer, floating-point number, or string\n",
    "version of a value?\n",
    "\n",
    "int()\n",
    "float()\n",
    "str()"
   ]
  },
  {
   "cell_type": "markdown",
   "id": "b8792f13",
   "metadata": {},
   "source": [
    "10. Why does this expression cause an error? How can you fix it?\n",
    "'I have eaten' + 99 + 'burritos'\n",
    "\n",
    "Because string and integer can not concatinate together, we can do typecasting "
   ]
  },
  {
   "cell_type": "code",
   "execution_count": 11,
   "id": "1786dca1",
   "metadata": {},
   "outputs": [
    {
     "data": {
      "text/plain": [
       "'I have eaten 99 burritos'"
      ]
     },
     "execution_count": 11,
     "metadata": {},
     "output_type": "execute_result"
    }
   ],
   "source": [
    "'I have eaten ' + '99' + ' burritos'"
   ]
  },
  {
   "cell_type": "code",
   "execution_count": null,
   "id": "e34f92c7",
   "metadata": {},
   "outputs": [],
   "source": []
  }
 ],
 "metadata": {
  "kernelspec": {
   "display_name": "Python 3 (ipykernel)",
   "language": "python",
   "name": "python3"
  },
  "language_info": {
   "codemirror_mode": {
    "name": "ipython",
    "version": 3
   },
   "file_extension": ".py",
   "mimetype": "text/x-python",
   "name": "python",
   "nbconvert_exporter": "python",
   "pygments_lexer": "ipython3",
   "version": "3.9.12"
  }
 },
 "nbformat": 4,
 "nbformat_minor": 5
}
